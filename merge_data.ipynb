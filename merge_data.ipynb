{
 "cells": [
  {
   "cell_type": "code",
   "execution_count": null,
   "id": "b84c51eb",
   "metadata": {},
   "outputs": [
    {
     "name": "stderr",
     "output_type": "stream",
     "text": [
      "100%|██████████| 2006/2006 [00:04<00:00, 463.69it/s]\n",
      "100%|██████████| 1066/1066 [00:02<00:00, 528.84it/s]\n",
      "100%|██████████| 9728/9728 [00:23<00:00, 422.59it/s]\n",
      "100%|██████████| 3/3 [00:29<00:00,  9.81s/it]"
     ]
    },
    {
     "name": "stdout",
     "output_type": "stream",
     "text": [
      "資料已成功合併到 merged_data 資料夾。\n"
     ]
    },
    {
     "name": "stderr",
     "output_type": "stream",
     "text": [
      "\n"
     ]
    }
   ],
   "source": [
    "import os\n",
    "import shutil\n",
    "from tqdm import tqdm\n",
    "\n",
    "# 設定來源資料夾列表\n",
    "source_dirs = [\"data\", \"data1\", \"data3\"]\n",
    "# 設定合併後資料存放的位置\n",
    "merged_dir = \"merged_data\"\n",
    "\n",
    "# 建立 merged_data 資料夾（如果不存在）\n",
    "os.makedirs(merged_dir, exist_ok=True)\n",
    "\n",
    "# 遍歷每個來源資料夾\n",
    "for src_dir in tqdm(source_dirs, desc=\"📁 處理資料夾\"):\n",
    "    file_list = os.listdir(src_dir)\n",
    "    for filename in tqdm(file_list, desc=f\"🔄 {src_dir}\", leave=False):\n",
    "        src_path = os.path.join(src_dir, filename)\n",
    "\n",
    "        if os.path.isfile(src_path):\n",
    "            new_filename = f\"{src_dir}_{filename}\"\n",
    "            dst_path = os.path.join(merged_dir, new_filename)\n",
    "\n",
    "            # 如果目標檔案已存在，且檔案大小相同就跳過（更嚴格防呆）\n",
    "            if os.path.exists(dst_path):\n",
    "                if os.path.getsize(src_path) == os.path.getsize(dst_path):\n",
    "                    continue  # skip identical file\n",
    "\n",
    "            # 複製或覆蓋檔案\n",
    "            shutil.copy2(src_path, dst_path)\n",
    "\n",
    "print(\"✅ 資料已成功合併到 merged_data 資料夾。\")\n"
   ]
  },
  {
   "cell_type": "code",
   "execution_count": null,
   "id": "62c46814",
   "metadata": {},
   "outputs": [],
   "source": []
  },
  {
   "cell_type": "code",
   "execution_count": null,
   "id": "12e60eba",
   "metadata": {},
   "outputs": [],
   "source": []
  },
  {
   "cell_type": "code",
   "execution_count": null,
   "id": "809a3448",
   "metadata": {},
   "outputs": [],
   "source": []
  },
  {
   "cell_type": "code",
   "execution_count": null,
   "id": "3b837e30",
   "metadata": {},
   "outputs": [],
   "source": []
  },
  {
   "cell_type": "code",
   "execution_count": null,
   "id": "a643ac5f",
   "metadata": {},
   "outputs": [],
   "source": []
  },
  {
   "cell_type": "code",
   "execution_count": null,
   "id": "159d1aef",
   "metadata": {},
   "outputs": [],
   "source": []
  }
 ],
 "metadata": {
  "kernelspec": {
   "display_name": "mvp",
   "language": "python",
   "name": "python3"
  },
  "language_info": {
   "codemirror_mode": {
    "name": "ipython",
    "version": 3
   },
   "file_extension": ".py",
   "mimetype": "text/x-python",
   "name": "python",
   "nbconvert_exporter": "python",
   "pygments_lexer": "ipython3",
   "version": "3.9.23"
  }
 },
 "nbformat": 4,
 "nbformat_minor": 5
}
