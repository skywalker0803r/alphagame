{
 "cells": [
  {
   "cell_type": "code",
   "execution_count": 1,
   "id": "b84c51eb",
   "metadata": {},
   "outputs": [
    {
     "name": "stdout",
     "output_type": "stream",
     "text": [
      "資料已成功合併到 merged_data 資料夾。\n"
     ]
    }
   ],
   "source": [
    "import os\n",
    "import shutil\n",
    "\n",
    "# 設定來源資料夾列表\n",
    "source_dirs = [\"data\", \"data1\"]\n",
    "# 設定合併後資料存放的位置\n",
    "merged_dir = \"merged_data\"\n",
    "\n",
    "# 建立 merged_data 資料夾（如果不存在）\n",
    "os.makedirs(merged_dir, exist_ok=True)\n",
    "\n",
    "# 遍歷每個來源資料夾\n",
    "for src_dir in source_dirs:\n",
    "    for filename in os.listdir(src_dir):\n",
    "        src_path = os.path.join(src_dir, filename)\n",
    "        \n",
    "        if os.path.isfile(src_path):\n",
    "            # 產生新的檔名：例如 data1_frame_00001.png\n",
    "            new_filename = f\"{src_dir}_{filename}\"\n",
    "            dst_path = os.path.join(merged_dir, new_filename)\n",
    "            \n",
    "            # 複製檔案到新的位置\n",
    "            shutil.copy2(src_path, dst_path)\n",
    "\n",
    "print(\"資料已成功合併到 merged_data 資料夾。\")\n"
   ]
  },
  {
   "cell_type": "code",
   "execution_count": null,
   "id": "62c46814",
   "metadata": {},
   "outputs": [],
   "source": []
  },
  {
   "cell_type": "code",
   "execution_count": null,
   "id": "12e60eba",
   "metadata": {},
   "outputs": [],
   "source": []
  },
  {
   "cell_type": "code",
   "execution_count": null,
   "id": "809a3448",
   "metadata": {},
   "outputs": [],
   "source": []
  },
  {
   "cell_type": "code",
   "execution_count": null,
   "id": "3b837e30",
   "metadata": {},
   "outputs": [],
   "source": []
  },
  {
   "cell_type": "code",
   "execution_count": null,
   "id": "a643ac5f",
   "metadata": {},
   "outputs": [],
   "source": []
  },
  {
   "cell_type": "code",
   "execution_count": null,
   "id": "159d1aef",
   "metadata": {},
   "outputs": [],
   "source": []
  }
 ],
 "metadata": {
  "kernelspec": {
   "display_name": "mvp",
   "language": "python",
   "name": "python3"
  },
  "language_info": {
   "codemirror_mode": {
    "name": "ipython",
    "version": 3
   },
   "file_extension": ".py",
   "mimetype": "text/x-python",
   "name": "python",
   "nbconvert_exporter": "python",
   "pygments_lexer": "ipython3",
   "version": "3.9.23"
  }
 },
 "nbformat": 4,
 "nbformat_minor": 5
}
